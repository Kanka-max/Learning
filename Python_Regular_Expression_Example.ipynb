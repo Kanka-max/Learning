{
  "cells": [
    {
      "cell_type": "markdown",
      "metadata": {
        "id": "view-in-github",
        "colab_type": "text"
      },
      "source": [
        "<a href=\"https://colab.research.google.com/github/Kanka-max/Learning/blob/main/Python_Regular_Expression_Example.ipynb\" target=\"_parent\"><img src=\"https://colab.research.google.com/assets/colab-badge.svg\" alt=\"Open In Colab\"/></a>"
      ]
    },
    {
      "cell_type": "markdown",
      "metadata": {
        "id": "cEjrKjWrcaD8"
      },
      "source": [
        "# The \"re\" module - \n",
        "The re module offers a set of functions that allows us to search a string for a match:"
      ]
    },
    {
      "cell_type": "markdown",
      "metadata": {
        "id": "-bnMMgwWcaEA"
      },
      "source": [
        "# The main methods of \"re\" module:\n",
        "    findall - Returns a list containing all matches\n",
        "    search - Returns a Match object if there is a match anywhere in the string"
      ]
    },
    {
      "cell_type": "code",
      "execution_count": null,
      "metadata": {
        "id": "wMOCF3s1caEP",
        "outputId": "d4e4e544-5943-462f-b311-d9c6f17b8d4d"
      },
      "outputs": [
        {
          "name": "stdout",
          "output_type": "stream",
          "text": [
            "['78', '82']\n",
            "<re.Match object; span=(28, 30), match='78'>\n"
          ]
        }
      ],
      "source": [
        "import re\n",
        "pattern = r\"\\d{2}\" #give me all two digit numbers\n",
        "text =  \"The score of the player was 78 runs from 82 balls\"\n",
        "print(re.findall(pattern,text))\n",
        "print(re.search(pattern,text))"
      ]
    },
    {
      "cell_type": "code",
      "execution_count": null,
      "metadata": {
        "id": "89FX7nnDcaES",
        "outputId": "fd6b9b36-45fa-4faf-d5b8-4b424d1f65e9"
      },
      "outputs": [
        {
          "name": "stdout",
          "output_type": "stream",
          "text": [
            "['78', '82']\n"
          ]
        }
      ],
      "source": [
        "pattern = r\"\\b\\d{2,3}\\b\" #check any digit\n",
        "text =  \"The score of the player wad 78 runs from 82 balls in 8 overs 1234 \"\n",
        "print(re.findall(pattern,text))"
      ]
    },
    {
      "cell_type": "code",
      "execution_count": null,
      "metadata": {
        "id": "KNgvH77McaET",
        "outputId": "ba054cdd-724b-4268-9f90-aee5eb06142c"
      },
      "outputs": [
        {
          "name": "stdout",
          "output_type": "stream",
          "text": [
            "['T', 'h', 'e', 's', 'c', 'o', 'r', 'e', 'o', 'f', 't', 'h', 'e', 'p', 'l', 'a', 'y', 'e', 'r', 'w', 'a', 'd', '7', '8', 'r', 'u', 'n', 's', 'f', 'r', 'o', 'm', '8', '2', 'b', 'a', 'l', 'l', 's']\n"
          ]
        }
      ],
      "source": [
        "pattern = r\"\\S\" #check whitespace character\n",
        "text =  \"The score of the player wad 78 runs from 82 balls\"\n",
        "print(re.findall(pattern,text))"
      ]
    },
    {
      "cell_type": "code",
      "execution_count": null,
      "metadata": {
        "id": "wcCQ6DmzcaEV",
        "outputId": "ff263f24-6460-4e3a-9cc1-eb89c49308c9"
      },
      "outputs": [
        {
          "name": "stdout",
          "output_type": "stream",
          "text": [
            "['T', 'h', 'e', ' ', 's', 'c', 'o', 'r', 'e', ' ', 'o', 'f', ' ', 't', 'h', 'e', ' ', 'p', 'l', 'a', 'y', 'e', 'r', ' ', 'w', 'a', 'd', ' ', '7', '8', ' ', 'r', 'u', 'n', 's', ' ', 'f', 'r', 'o', 'm', ' ', '8', '2', ' ', 'b', 'a', 'l', 'l', 's']\n"
          ]
        }
      ],
      "source": [
        "pattern = r\".\" #check any character\n",
        "text =  \"The score of the player wad 78 runs from 82 balls\"\n",
        "print(re.findall(pattern,text))"
      ]
    },
    {
      "cell_type": "code",
      "execution_count": null,
      "metadata": {
        "id": "V4DQxRMHcaEW",
        "outputId": "6a30d942-a4b4-47dc-afb4-679ec3bac02e"
      },
      "outputs": [
        {
          "name": "stdout",
          "output_type": "stream",
          "text": [
            "[' ', ' ', ' ', ' ', ' ', ' ', ' ', ' ', ' ', ' ']\n"
          ]
        }
      ],
      "source": [
        "pattern = r\"\\W\" #check any character\n",
        "text =  \"The score of the player wad 78 runs from 82 balls\"\n",
        "print(re.findall(pattern,text))"
      ]
    },
    {
      "cell_type": "code",
      "execution_count": null,
      "metadata": {
        "id": "Bi1PcaDEcaEY",
        "outputId": "f1885f09-43e4-4c41-fcfb-ba02d0a2a52b"
      },
      "outputs": [
        {
          "name": "stdout",
          "output_type": "stream",
          "text": [
            "['c1']\n"
          ]
        }
      ],
      "source": [
        "pattern = r\"[a-z][0-9]\" #check all characters between \"a\" to \"c\"\n",
        "text =  \"The score of the player wad 78 runs ac12 from 82 balls\"\n",
        "print(re.findall(pattern,text))"
      ]
    },
    {
      "cell_type": "code",
      "execution_count": null,
      "metadata": {
        "id": "2lpBEUGZcaEa",
        "outputId": "b4749a2d-b1d9-4224-f433-15a3a52d2769"
      },
      "outputs": [
        {
          "name": "stdout",
          "output_type": "stream",
          "text": [
            "['T', 'S', 'O']\n"
          ]
        }
      ],
      "source": [
        "pattern = r\"[A-Z]\" #check all characters between \"A\" to \"Z\"\n",
        "text =  \"The Score Of the player wad 78 runs from 82 balls\"\n",
        "print(re.findall(pattern,text))"
      ]
    },
    {
      "cell_type": "code",
      "execution_count": null,
      "metadata": {
        "id": "sF6guryPcaEd",
        "outputId": "4f42b243-ab69-49e8-9285-53361ba9b792"
      },
      "outputs": [
        {
          "name": "stdout",
          "output_type": "stream",
          "text": [
            "['score']\n"
          ]
        }
      ],
      "source": [
        "pattern = r\"\\bscore\\b\" #check a word\n",
        "text =  \"The score of the player wad 78 runs from 82 balls play\"\n",
        "print(re.findall(pattern,text))"
      ]
    },
    {
      "cell_type": "code",
      "execution_count": null,
      "metadata": {
        "id": "6ktMYS3wcaEe",
        "outputId": "889627cb-d6bb-454c-ec68-0bc0f4291c08"
      },
      "outputs": [
        {
          "name": "stdout",
          "output_type": "stream",
          "text": [
            "['runs']\n"
          ]
        }
      ],
      "source": [
        "#start and end of string\n",
        "pattern = r\"runs$\" #check any character\n",
        "text =  \"Score of the player wad 78 runs\"\n",
        "print(re.findall(pattern,text))"
      ]
    },
    {
      "cell_type": "code",
      "execution_count": null,
      "metadata": {
        "id": "XopogVybcaEf",
        "outputId": "1aeefe79-e68a-4058-edad-6588700b25ee"
      },
      "outputs": [
        {
          "name": "stdout",
          "output_type": "stream",
          "text": [
            "['The', 'th', 'The']\n"
          ]
        }
      ],
      "source": [
        "#repition\n",
        "pattern = r\"the*\" #check whereever he is there -  zero or more occurances of \"e\" followed by \"th\"\n",
        "text =  \"The Score of th player Their was 78 runs from 82 balls\"\n",
        "print(re.findall(pattern,text,re.IGNORECASE))"
      ]
    },
    {
      "cell_type": "code",
      "execution_count": null,
      "metadata": {
        "id": "9bP27VuqcaEg",
        "outputId": "7c7da895-5de3-4472-ad44-598bc5d69ca6"
      },
      "outputs": [
        {
          "name": "stdout",
          "output_type": "stream",
          "text": [
            "['The', 'The']\n"
          ]
        }
      ],
      "source": [
        "#repition\n",
        "pattern = r\"the+\" #check whereever he is there -  1 or more occurances of \"e\" followed by \"th\"\n",
        "text =  \"The Score of th player Their was 78 runs from 82 balls\"\n",
        "print(re.findall(pattern,text,re.IGNORECASE))"
      ]
    },
    {
      "cell_type": "code",
      "execution_count": null,
      "metadata": {
        "id": "ueBdeIIvcaEi",
        "outputId": "aac41fc2-005a-4bad-be02-acfe561dcec1"
      },
      "outputs": [
        {
          "name": "stdout",
          "output_type": "stream",
          "text": [
            "['The', 'the', 'The']\n"
          ]
        }
      ],
      "source": [
        "#repition\n",
        "pattern = r\"the?\" #check whereever he is there - 0 or 1 \"e\" followed by \"th\"\n",
        "text =  \"Thee Score of thee player Their was 78 runs from 82 balls\"\n",
        "print(re.findall(pattern,text,re.IGNORECASE))"
      ]
    },
    {
      "cell_type": "code",
      "execution_count": null,
      "metadata": {
        "id": "KOu3NYT7caEj",
        "outputId": "6d5ec984-cacc-4e48-a96c-4df367f0c4ee"
      },
      "outputs": [
        {
          "name": "stdout",
          "output_type": "stream",
          "text": [
            "['the']\n"
          ]
        }
      ],
      "source": [
        "#repition\n",
        "pattern = r\"the{1}\\b\" ##Check if the string contains \"th\" followed by exactly one \"e\" characters:\n",
        "text =  \"Thee Score of the player Their was 78 runs from 82 balls\"\n",
        "print(re.findall(pattern,text,re.IGNORECASE))"
      ]
    },
    {
      "cell_type": "code",
      "execution_count": null,
      "metadata": {
        "id": "FE2EH2ChcaEl",
        "outputId": "c9666864-9717-4b74-d2b8-7aaa0fafd9d4"
      },
      "outputs": [
        {
          "name": "stdout",
          "output_type": "stream",
          "text": [
            "['The', 'The', 'was']\n"
          ]
        }
      ],
      "source": [
        "#The alternmate word\n",
        "pattern = r\"The|was\" ##Check if the string contains either \"the\" or \"was\"\n",
        "text =  \"The Score of the player Their was 78 runs from 82 balls\"\n",
        "print(re.findall(pattern,text))"
      ]
    },
    {
      "cell_type": "markdown",
      "metadata": {
        "id": "VGLl4Hm_caEn"
      },
      "source": [
        "# Python Regular Expression Part 2 - Sets"
      ]
    },
    {
      "cell_type": "code",
      "execution_count": null,
      "metadata": {
        "id": "KQRAeH4-caEq",
        "outputId": "0c5fbb0f-29b5-49bd-9f5a-c2f1c2f4fc0a"
      },
      "outputs": [
        {
          "name": "stdout",
          "output_type": "stream",
          "text": [
            "['T', 'h', 'e', ' ', 'S', 'c', 'o', 'r', 'e', ' ', 'o', 'f', ' ', 't', 'h', 'e', ' ', '$', ' ', 'p', 'l', 'a', 'y', 'e', 'r', ' ', '~', ' ', 'T', 'h', 'e', 'i', 'r', ' ', '~', ' ', 'w', 'a', 's', ' ', ' ', 'r', 'u', 'n', 's', ' ', 'f', 'r', 'o', 'm', ' ', ' ', 'b', 'a', 'l', 'l', 's']\n"
          ]
        }
      ],
      "source": [
        "import re\n",
        "#Finding one of the character\n",
        "pattern = r\"[^256789]\" ##Check if the string contains \"o\"/\"r\"/\"i\", try with [789], not symbol\n",
        "text =  \"The Score of the $ player ~ Their ~ was 78 runs from 82 balls\"\n",
        "print(re.findall(pattern,text))\n",
        "\n",
        "#use Cae\n",
        "#Finding Junk character in large text - > $ '' ' ~"
      ]
    },
    {
      "cell_type": "code",
      "execution_count": null,
      "metadata": {
        "id": "UvbWBLDKcaEs",
        "outputId": "891256e4-5a71-4ff9-91d0-009c6326ccd6"
      },
      "outputs": [
        {
          "name": "stdout",
          "output_type": "stream",
          "text": [
            "['h', 'e', ' ', 'c', 'o', 'r', 'e', ' ', 'o', 'f', ' ', 't', 'h', 'e', ' ', 'p', 'l', 'a', 'y', 'e', 'r', ' ', 'h', 'e', 'i', 'r', ' ', 'w', 'a', 's', ' ', '7', '8', ' ', 'r', 'u', 'n', 's', ' ', 'f', 'r', 'o', 'm', ' ', '8', '2', ' ', 'b', 'a', 'l', 'l', 's']\n"
          ]
        }
      ],
      "source": [
        "import re\n",
        "#Finding anything between range\n",
        "pattern = r\"[^A-Z]\" ##Check if the string contains alphabates between \"c\" to \"f\", try with 0-9, not symbol\n",
        "text =  \"The Score of the player Their was 78 runs from 82 balls\"\n",
        "print(re.findall(pattern,text))\n",
        "\n",
        "#use Cae\n",
        "#Finding Junk character in large text - using A/B/C with above"
      ]
    },
    {
      "cell_type": "code",
      "execution_count": null,
      "metadata": {
        "id": "Idxr8Xs2caEt",
        "outputId": "29cc0837-4c2f-45ef-920e-6a1aebee047c"
      },
      "outputs": [
        {
          "name": "stdout",
          "output_type": "stream",
          "text": [
            "['305']\n"
          ]
        }
      ],
      "source": [
        "import re\n",
        "#Finding Combination\n",
        "pattern = r\"[3-4][0-1][4-6]\" ##Check with other combination, and alphabets\n",
        "text =  \"The Score of the player Their was 78 runs from 82 balls 305\"\n",
        "print(re.findall(pattern,text))\n",
        "\n",
        "#use Cae\n",
        "#Useful to find some error code for example 404 or a code that may have range\n",
        "#to find PAN number/aadhar /ssn  etc"
      ]
    },
    {
      "cell_type": "code",
      "execution_count": null,
      "metadata": {
        "id": "Yk9gZmEUcaEu",
        "outputId": "a8ac9acd-c732-466e-ed49-6b23019e0df5"
      },
      "outputs": [
        {
          "name": "stdout",
          "output_type": "stream",
          "text": [
            "['T', ' ', 'S', ' ', ' ', ' ', ' ', 'T', ' ', ' ', '7', '8', ' ', ' ', ' ', '8', '2', ' ']\n"
          ]
        }
      ],
      "source": [
        "import re\n",
        "#Finding any character ignoring case\n",
        "pattern = r\"[^a-z]\" ##Check with other combination, and alphabets, with or without 0-9\n",
        "text =  \"The Score of the player Their was 78 runs from 82 balls\"\n",
        "print(re.findall(pattern,text))\n",
        "\n",
        "#use Cae\n",
        "#Useful to find characters and combination"
      ]
    },
    {
      "cell_type": "code",
      "execution_count": null,
      "metadata": {
        "id": "BAFAXIW5caEu"
      },
      "outputs": [],
      "source": [
        "# We will Discuss use case how it helps on ML/DL perspective  "
      ]
    },
    {
      "cell_type": "code",
      "execution_count": null,
      "metadata": {
        "id": "f1AdMDxKcaEv"
      },
      "outputs": [],
      "source": [
        ""
      ]
    }
  ],
  "metadata": {
    "kernelspec": {
      "display_name": "Python 3",
      "language": "python",
      "name": "python3"
    },
    "language_info": {
      "codemirror_mode": {
        "name": "ipython",
        "version": 3
      },
      "file_extension": ".py",
      "mimetype": "text/x-python",
      "name": "python",
      "nbconvert_exporter": "python",
      "pygments_lexer": "ipython3",
      "version": "3.8.3"
    },
    "colab": {
      "name": "Python Regular Expression Example.ipynb",
      "provenance": [],
      "toc_visible": true,
      "include_colab_link": true
    }
  },
  "nbformat": 4,
  "nbformat_minor": 0
}